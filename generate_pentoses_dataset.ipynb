{
  "nbformat": 4,
  "nbformat_minor": 0,
  "metadata": {
    "colab": {
      "name": "Untitled7.ipynb",
      "provenance": [],
      "authorship_tag": "ABX9TyNylliuBgqqGAUmpADXCAFR"
    },
    "kernelspec": {
      "name": "python3",
      "display_name": "Python 3"
    },
    "language_info": {
      "name": "python"
    }
  },
  "cells": [
    {
      "cell_type": "code",
      "execution_count": 83,
      "metadata": {
        "id": "fuUfGoug5ABr"
      },
      "outputs": [],
      "source": [
        "import pandas as pd\n",
        "import numpy as np\n",
        "\n",
        "pentoses_05 = pd.read_excel('data.xlsx', sheet_name=8, header=None)\n",
        "pentoses_406 = pd.read_excel('data.xlsx', sheet_name=10, header=None)\n",
        "\n",
        "multi_obj_data_05 = pentoses_05.iloc[[11,15,16,18,19,21,22,24,27,40],:]\n",
        "multi_obj_data_406 = pentoses_406.iloc[[11,15,16,18,19,21,22,24,27,40],:]\n",
        "\n",
        "xylose_data_05 = multi_obj_data_05.iloc[:,3:15].values\n",
        "xylose_data_406 = multi_obj_data_406.iloc[:,3:15].values\n",
        "xylose_data_05 = np.float32(xylose_data_05)\n",
        "xylose_data_406 = np.float32(xylose_data_406)\n",
        "\n",
        "#row_data_05 = xylose_data_05[0,:]\n",
        "#row_data_406 = xylose_data_406[0,:]\n",
        "#row_data_concat_0 = np.concatenate((row_data_05, row_data_406), axis=0)\n",
        "#row_data_concat.shape\n",
        "#row_data_05 = xylose_data_05[1,:]\n",
        "#row_data_406 = xylose_data_406[1,:]\n",
        "#row_data_concat_1 = np.concatenate((row_data_05, row_data_406), axis=0)\n",
        "#type(row_data_concat_1)\n",
        "#np.vstack((row_data_concat_0, row_data_concat_1))\n",
        "\n",
        "xylose_data = []\n",
        "for idx in range(10):\n",
        "  row_data_05 = xylose_data_05[idx,:]\n",
        "  #row_data_05 = np.around(row_data_05, decimals=3)\n",
        "  row_data_406 = xylose_data_406[idx,:]\n",
        "  #row_data_406 = np.around(row_data_406, decimals=3)\n",
        "  row_data_concat = np.concatenate((row_data_05, row_data_406), axis=0)\n",
        "  if idx == 0:\n",
        "    xylose_data = row_data_concat\n",
        "  else:\n",
        "    xylose_data = np.vstack((xylose_data, row_data_concat))\n",
        "\n",
        "xylose_data = xylose_data.T\n",
        "#xylose_data\n",
        "\n",
        "df = pd.DataFrame(xylose_data)\n",
        "df.to_excel(\"xylose_data.xlsx\")  \n",
        "\n",
        "\n",
        "\n"
      ]
    },
    {
      "cell_type": "code",
      "source": [
        "import pandas as pd\n",
        "import numpy as np\n",
        "\n",
        "pentoses_05 = pd.read_excel('data.xlsx', sheet_name=8, header=None)\n",
        "pentoses_406 = pd.read_excel('data.xlsx', sheet_name=10, header=None)\n",
        "\n",
        "multi_obj_data_05 = pentoses_05.iloc[[11,15,16,18,19,21,22,24,27,40],:]\n",
        "multi_obj_data_406 = pentoses_406.iloc[[11,15,16,18,19,21,22,24,27,40],:]\n",
        "\n",
        "ribose_data_05 = multi_obj_data_05.iloc[:,15:27].values\n",
        "ribose_data_406 = multi_obj_data_406.iloc[:,15:27].values\n",
        "ribose_data_05 = np.float32(ribose_data_05)\n",
        "ribose_data_406 = np.float32(ribose_data_406)\n",
        "\n",
        "ribose_data = []\n",
        "for idx in range(10):\n",
        "  row_data_05 = ribose_data_05[idx,:]\n",
        "  row_data_406 = ribose_data_406[idx,:]\n",
        "  row_data_concat = np.concatenate((row_data_05, row_data_406), axis=0)\n",
        "  if idx == 0:\n",
        "    ribose_data = row_data_concat\n",
        "  else:\n",
        "    ribose_data = np.vstack((ribose_data, row_data_concat))\n",
        "\n",
        "ribose_data = ribose_data.T\n",
        "#ribose_data\n",
        "\n",
        "df = pd.DataFrame(ribose_data)\n",
        "df.to_excel(\"ribose_data.xlsx\")  "
      ],
      "metadata": {
        "id": "v4S0Y1JNkyub"
      },
      "execution_count": 90,
      "outputs": []
    }
  ]
}