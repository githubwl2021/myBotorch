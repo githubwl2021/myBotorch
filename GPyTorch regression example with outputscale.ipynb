{
  "nbformat": 4,
  "nbformat_minor": 0,
  "metadata": {
    "colab": {
      "name": "Untitled14.ipynb",
      "provenance": [],
      "authorship_tag": "ABX9TyPM5ay3q6ATY5TaI7gD4J3w"
    },
    "kernelspec": {
      "name": "python3",
      "display_name": "Python 3"
    },
    "language_info": {
      "name": "python"
    }
  },
  "cells": [
    {
      "cell_type": "code",
      "source": [
        "pip install botorch"
      ],
      "metadata": {
        "id": "YInx9m5537bk"
      },
      "execution_count": null,
      "outputs": []
    },
    {
      "cell_type": "code",
      "execution_count": 3,
      "metadata": {
        "id": "7kf_NLXd3ldD"
      },
      "outputs": [],
      "source": [
        "import math\n",
        "import torch\n",
        "import gpytorch\n",
        "from matplotlib import pyplot as plt\n",
        "\n",
        "%matplotlib inline\n",
        "%load_ext autoreload\n",
        "%autoreload 2"
      ]
    },
    {
      "cell_type": "code",
      "source": [
        "# Training data is 100 points in [0,1] inclusive regularly spaced\n",
        "train_x = torch.linspace(0, 1, 100)\n",
        "# True function is sin(2*pi*x) with Gaussian noise\n",
        "train_y = torch.sin(train_x * (2 * math.pi)) + torch.randn(train_x.size()) * math.sqrt(0.04)"
      ],
      "metadata": {
        "id": "v40pm60d4lF9"
      },
      "execution_count": 4,
      "outputs": []
    },
    {
      "cell_type": "code",
      "source": [
        "# We will use the simplest form of GP model, exact inference\n",
        "class ExactGPModel(gpytorch.models.ExactGP):\n",
        "    def __init__(self, train_x, train_y, likelihood):\n",
        "        super(ExactGPModel, self).__init__(train_x, train_y, likelihood)\n",
        "        self.mean_module = gpytorch.means.ConstantMean()\n",
        "        self.covar_module = gpytorch.kernels.ScaleKernel(gpytorch.kernels.RBFKernel())\n",
        "\n",
        "    def forward(self, x):\n",
        "        mean_x = self.mean_module(x)\n",
        "        covar_x = self.covar_module(x)\n",
        "        return gpytorch.distributions.MultivariateNormal(mean_x, covar_x)\n",
        "\n",
        "# initialize likelihood and model\n",
        "likelihood = gpytorch.likelihoods.GaussianLikelihood()\n",
        "model = ExactGPModel(train_x, train_y, likelihood)"
      ],
      "metadata": {
        "id": "6Cz9haZ_4maA"
      },
      "execution_count": 20,
      "outputs": []
    },
    {
      "cell_type": "code",
      "source": [
        "# this is for running the notebook in our testing framework\n",
        "import os\n",
        "smoke_test = ('CI' in os.environ)\n",
        "training_iter = 2 if smoke_test else 150\n",
        "\n",
        "\n",
        "# Find optimal model hyperparameters\n",
        "model.train()\n",
        "likelihood.train()\n",
        "\n",
        "# Use the adam optimizer\n",
        "optimizer = torch.optim.Adam(model.parameters(), lr=0.1)  # Includes GaussianLikelihood parameters\n",
        "\n",
        "# \"Loss\" for GPs - the marginal log likelihood\n",
        "mll = gpytorch.mlls.ExactMarginalLogLikelihood(likelihood, model)\n",
        "\n",
        "for i in range(training_iter):\n",
        "    # Zero gradients from previous iteration\n",
        "    optimizer.zero_grad()\n",
        "    # Output from model\n",
        "    output = model(train_x)\n",
        "    # Calc loss and backprop gradients\n",
        "    loss = -mll(output, train_y)\n",
        "    loss.backward()\n",
        "    print('Iter %d/%d - Loss: %.3f   lengthscale: %.3f   outputscale: %.3f   noise: %.3f' % (\n",
        "        i + 1, training_iter, loss.item(),\n",
        "        model.covar_module.base_kernel.lengthscale.item(),\n",
        "        model.covar_module.outputscale.item(),\n",
        "        model.likelihood.noise.item()\n",
        "    ))\n",
        "    optimizer.step()"
      ],
      "metadata": {
        "colab": {
          "base_uri": "https://localhost:8080/"
        },
        "id": "Bkpz1wvh673N",
        "outputId": "c8667324-6d4c-4cbe-ab4b-412f82a81df6"
      },
      "execution_count": 21,
      "outputs": [
        {
          "output_type": "stream",
          "name": "stdout",
          "text": [
            "Iter 1/150 - Loss: 0.935   lengthscale: 0.693   outputscale: 0.693   noise: 0.693\n",
            "Iter 2/150 - Loss: 0.904   lengthscale: 0.644   outputscale: 0.744   noise: 0.644\n",
            "Iter 3/150 - Loss: 0.870   lengthscale: 0.598   outputscale: 0.798   noise: 0.598\n",
            "Iter 4/150 - Loss: 0.832   lengthscale: 0.555   outputscale: 0.855   noise: 0.554\n",
            "Iter 5/150 - Loss: 0.790   lengthscale: 0.514   outputscale: 0.913   noise: 0.513\n",
            "Iter 6/150 - Loss: 0.743   lengthscale: 0.475   outputscale: 0.973   noise: 0.474\n",
            "Iter 7/150 - Loss: 0.693   lengthscale: 0.439   outputscale: 1.036   noise: 0.437\n",
            "Iter 8/150 - Loss: 0.642   lengthscale: 0.404   outputscale: 1.102   noise: 0.402\n",
            "Iter 9/150 - Loss: 0.594   lengthscale: 0.372   outputscale: 1.171   noise: 0.369\n",
            "Iter 10/150 - Loss: 0.550   lengthscale: 0.342   outputscale: 1.240   noise: 0.339\n",
            "Iter 11/150 - Loss: 0.510   lengthscale: 0.315   outputscale: 1.307   noise: 0.310\n",
            "Iter 12/150 - Loss: 0.473   lengthscale: 0.292   outputscale: 1.367   noise: 0.284\n",
            "Iter 13/150 - Loss: 0.438   lengthscale: 0.272   outputscale: 1.418   noise: 0.259\n",
            "Iter 14/150 - Loss: 0.404   lengthscale: 0.256   outputscale: 1.458   noise: 0.237\n",
            "Iter 15/150 - Loss: 0.371   lengthscale: 0.244   outputscale: 1.485   noise: 0.216\n",
            "Iter 16/150 - Loss: 0.339   lengthscale: 0.234   outputscale: 1.501   noise: 0.197\n",
            "Iter 17/150 - Loss: 0.306   lengthscale: 0.226   outputscale: 1.507   noise: 0.179\n",
            "Iter 18/150 - Loss: 0.275   lengthscale: 0.221   outputscale: 1.501   noise: 0.163\n",
            "Iter 19/150 - Loss: 0.243   lengthscale: 0.217   outputscale: 1.487   noise: 0.148\n",
            "Iter 20/150 - Loss: 0.212   lengthscale: 0.216   outputscale: 1.465   noise: 0.135\n",
            "Iter 21/150 - Loss: 0.182   lengthscale: 0.216   outputscale: 1.436   noise: 0.122\n",
            "Iter 22/150 - Loss: 0.154   lengthscale: 0.217   outputscale: 1.401   noise: 0.111\n",
            "Iter 23/150 - Loss: 0.126   lengthscale: 0.220   outputscale: 1.361   noise: 0.101\n",
            "Iter 24/150 - Loss: 0.100   lengthscale: 0.224   outputscale: 1.318   noise: 0.092\n",
            "Iter 25/150 - Loss: 0.076   lengthscale: 0.229   outputscale: 1.272   noise: 0.084\n",
            "Iter 26/150 - Loss: 0.054   lengthscale: 0.235   outputscale: 1.224   noise: 0.077\n",
            "Iter 27/150 - Loss: 0.035   lengthscale: 0.242   outputscale: 1.175   noise: 0.070\n",
            "Iter 28/150 - Loss: 0.019   lengthscale: 0.249   outputscale: 1.126   noise: 0.064\n",
            "Iter 29/150 - Loss: 0.005   lengthscale: 0.257   outputscale: 1.078   noise: 0.059\n",
            "Iter 30/150 - Loss: -0.005   lengthscale: 0.265   outputscale: 1.031   noise: 0.055\n",
            "Iter 31/150 - Loss: -0.012   lengthscale: 0.273   outputscale: 0.987   noise: 0.050\n",
            "Iter 32/150 - Loss: -0.016   lengthscale: 0.281   outputscale: 0.946   noise: 0.047\n",
            "Iter 33/150 - Loss: -0.017   lengthscale: 0.288   outputscale: 0.909   noise: 0.044\n",
            "Iter 34/150 - Loss: -0.016   lengthscale: 0.295   outputscale: 0.878   noise: 0.041\n",
            "Iter 35/150 - Loss: -0.014   lengthscale: 0.300   outputscale: 0.852   noise: 0.039\n",
            "Iter 36/150 - Loss: -0.010   lengthscale: 0.303   outputscale: 0.832   noise: 0.037\n",
            "Iter 37/150 - Loss: -0.006   lengthscale: 0.305   outputscale: 0.819   noise: 0.036\n",
            "Iter 38/150 - Loss: -0.002   lengthscale: 0.306   outputscale: 0.813   noise: 0.034\n",
            "Iter 39/150 - Loss: 0.001   lengthscale: 0.304   outputscale: 0.812   noise: 0.034\n",
            "Iter 40/150 - Loss: 0.004   lengthscale: 0.301   outputscale: 0.816   noise: 0.033\n",
            "Iter 41/150 - Loss: 0.005   lengthscale: 0.297   outputscale: 0.824   noise: 0.033\n",
            "Iter 42/150 - Loss: 0.005   lengthscale: 0.292   outputscale: 0.836   noise: 0.032\n",
            "Iter 43/150 - Loss: 0.004   lengthscale: 0.287   outputscale: 0.850   noise: 0.032\n",
            "Iter 44/150 - Loss: 0.002   lengthscale: 0.282   outputscale: 0.865   noise: 0.033\n",
            "Iter 45/150 - Loss: -0.000   lengthscale: 0.276   outputscale: 0.879   noise: 0.033\n",
            "Iter 46/150 - Loss: -0.003   lengthscale: 0.271   outputscale: 0.894   noise: 0.034\n",
            "Iter 47/150 - Loss: -0.005   lengthscale: 0.267   outputscale: 0.906   noise: 0.035\n",
            "Iter 48/150 - Loss: -0.008   lengthscale: 0.263   outputscale: 0.917   noise: 0.035\n",
            "Iter 49/150 - Loss: -0.010   lengthscale: 0.260   outputscale: 0.925   noise: 0.036\n",
            "Iter 50/150 - Loss: -0.012   lengthscale: 0.257   outputscale: 0.929   noise: 0.037\n",
            "Iter 51/150 - Loss: -0.014   lengthscale: 0.255   outputscale: 0.931   noise: 0.038\n",
            "Iter 52/150 - Loss: -0.015   lengthscale: 0.254   outputscale: 0.929   noise: 0.039\n",
            "Iter 53/150 - Loss: -0.016   lengthscale: 0.254   outputscale: 0.925   noise: 0.041\n",
            "Iter 54/150 - Loss: -0.017   lengthscale: 0.254   outputscale: 0.917   noise: 0.042\n",
            "Iter 55/150 - Loss: -0.017   lengthscale: 0.255   outputscale: 0.908   noise: 0.043\n",
            "Iter 56/150 - Loss: -0.017   lengthscale: 0.257   outputscale: 0.896   noise: 0.044\n",
            "Iter 57/150 - Loss: -0.017   lengthscale: 0.258   outputscale: 0.883   noise: 0.044\n",
            "Iter 58/150 - Loss: -0.017   lengthscale: 0.261   outputscale: 0.869   noise: 0.045\n",
            "Iter 59/150 - Loss: -0.017   lengthscale: 0.263   outputscale: 0.855   noise: 0.046\n",
            "Iter 60/150 - Loss: -0.017   lengthscale: 0.265   outputscale: 0.841   noise: 0.046\n",
            "Iter 61/150 - Loss: -0.016   lengthscale: 0.268   outputscale: 0.827   noise: 0.047\n",
            "Iter 62/150 - Loss: -0.016   lengthscale: 0.270   outputscale: 0.814   noise: 0.047\n",
            "Iter 63/150 - Loss: -0.016   lengthscale: 0.272   outputscale: 0.803   noise: 0.047\n",
            "Iter 64/150 - Loss: -0.016   lengthscale: 0.273   outputscale: 0.793   noise: 0.047\n",
            "Iter 65/150 - Loss: -0.016   lengthscale: 0.274   outputscale: 0.785   noise: 0.047\n",
            "Iter 66/150 - Loss: -0.016   lengthscale: 0.275   outputscale: 0.779   noise: 0.047\n",
            "Iter 67/150 - Loss: -0.016   lengthscale: 0.275   outputscale: 0.775   noise: 0.047\n",
            "Iter 68/150 - Loss: -0.016   lengthscale: 0.275   outputscale: 0.773   noise: 0.047\n",
            "Iter 69/150 - Loss: -0.016   lengthscale: 0.274   outputscale: 0.773   noise: 0.047\n",
            "Iter 70/150 - Loss: -0.017   lengthscale: 0.273   outputscale: 0.774   noise: 0.046\n",
            "Iter 71/150 - Loss: -0.017   lengthscale: 0.272   outputscale: 0.776   noise: 0.046\n",
            "Iter 72/150 - Loss: -0.017   lengthscale: 0.270   outputscale: 0.779   noise: 0.045\n",
            "Iter 73/150 - Loss: -0.017   lengthscale: 0.268   outputscale: 0.783   noise: 0.045\n",
            "Iter 74/150 - Loss: -0.018   lengthscale: 0.267   outputscale: 0.787   noise: 0.045\n",
            "Iter 75/150 - Loss: -0.018   lengthscale: 0.265   outputscale: 0.791   noise: 0.044\n",
            "Iter 76/150 - Loss: -0.018   lengthscale: 0.264   outputscale: 0.794   noise: 0.044\n",
            "Iter 77/150 - Loss: -0.018   lengthscale: 0.262   outputscale: 0.797   noise: 0.043\n",
            "Iter 78/150 - Loss: -0.018   lengthscale: 0.261   outputscale: 0.799   noise: 0.043\n",
            "Iter 79/150 - Loss: -0.018   lengthscale: 0.260   outputscale: 0.800   noise: 0.043\n",
            "Iter 80/150 - Loss: -0.018   lengthscale: 0.260   outputscale: 0.800   noise: 0.042\n",
            "Iter 81/150 - Loss: -0.018   lengthscale: 0.259   outputscale: 0.799   noise: 0.042\n",
            "Iter 82/150 - Loss: -0.018   lengthscale: 0.259   outputscale: 0.797   noise: 0.042\n",
            "Iter 83/150 - Loss: -0.018   lengthscale: 0.259   outputscale: 0.795   noise: 0.042\n",
            "Iter 84/150 - Loss: -0.018   lengthscale: 0.260   outputscale: 0.792   noise: 0.042\n",
            "Iter 85/150 - Loss: -0.018   lengthscale: 0.260   outputscale: 0.788   noise: 0.042\n",
            "Iter 86/150 - Loss: -0.018   lengthscale: 0.261   outputscale: 0.784   noise: 0.042\n",
            "Iter 87/150 - Loss: -0.018   lengthscale: 0.261   outputscale: 0.780   noise: 0.042\n",
            "Iter 88/150 - Loss: -0.018   lengthscale: 0.262   outputscale: 0.776   noise: 0.042\n",
            "Iter 89/150 - Loss: -0.018   lengthscale: 0.262   outputscale: 0.772   noise: 0.042\n",
            "Iter 90/150 - Loss: -0.018   lengthscale: 0.263   outputscale: 0.768   noise: 0.042\n",
            "Iter 91/150 - Loss: -0.018   lengthscale: 0.263   outputscale: 0.765   noise: 0.042\n",
            "Iter 92/150 - Loss: -0.018   lengthscale: 0.263   outputscale: 0.762   noise: 0.042\n",
            "Iter 93/150 - Loss: -0.018   lengthscale: 0.263   outputscale: 0.760   noise: 0.042\n",
            "Iter 94/150 - Loss: -0.018   lengthscale: 0.263   outputscale: 0.759   noise: 0.043\n",
            "Iter 95/150 - Loss: -0.018   lengthscale: 0.263   outputscale: 0.758   noise: 0.043\n",
            "Iter 96/150 - Loss: -0.018   lengthscale: 0.263   outputscale: 0.757   noise: 0.043\n",
            "Iter 97/150 - Loss: -0.018   lengthscale: 0.263   outputscale: 0.757   noise: 0.043\n",
            "Iter 98/150 - Loss: -0.018   lengthscale: 0.262   outputscale: 0.757   noise: 0.043\n",
            "Iter 99/150 - Loss: -0.018   lengthscale: 0.262   outputscale: 0.758   noise: 0.043\n",
            "Iter 100/150 - Loss: -0.018   lengthscale: 0.262   outputscale: 0.758   noise: 0.043\n",
            "Iter 101/150 - Loss: -0.018   lengthscale: 0.261   outputscale: 0.759   noise: 0.043\n",
            "Iter 102/150 - Loss: -0.018   lengthscale: 0.261   outputscale: 0.759   noise: 0.044\n",
            "Iter 103/150 - Loss: -0.018   lengthscale: 0.260   outputscale: 0.760   noise: 0.044\n",
            "Iter 104/150 - Loss: -0.018   lengthscale: 0.260   outputscale: 0.760   noise: 0.044\n",
            "Iter 105/150 - Loss: -0.018   lengthscale: 0.260   outputscale: 0.760   noise: 0.044\n",
            "Iter 106/150 - Loss: -0.018   lengthscale: 0.260   outputscale: 0.760   noise: 0.044\n",
            "Iter 107/150 - Loss: -0.018   lengthscale: 0.260   outputscale: 0.759   noise: 0.044\n",
            "Iter 108/150 - Loss: -0.018   lengthscale: 0.260   outputscale: 0.759   noise: 0.044\n",
            "Iter 109/150 - Loss: -0.018   lengthscale: 0.260   outputscale: 0.758   noise: 0.044\n",
            "Iter 110/150 - Loss: -0.018   lengthscale: 0.260   outputscale: 0.757   noise: 0.044\n",
            "Iter 111/150 - Loss: -0.018   lengthscale: 0.260   outputscale: 0.756   noise: 0.043\n",
            "Iter 112/150 - Loss: -0.018   lengthscale: 0.260   outputscale: 0.755   noise: 0.043\n",
            "Iter 113/150 - Loss: -0.018   lengthscale: 0.260   outputscale: 0.754   noise: 0.043\n",
            "Iter 114/150 - Loss: -0.018   lengthscale: 0.261   outputscale: 0.753   noise: 0.043\n",
            "Iter 115/150 - Loss: -0.018   lengthscale: 0.261   outputscale: 0.753   noise: 0.043\n",
            "Iter 116/150 - Loss: -0.018   lengthscale: 0.261   outputscale: 0.752   noise: 0.043\n",
            "Iter 117/150 - Loss: -0.018   lengthscale: 0.261   outputscale: 0.752   noise: 0.043\n",
            "Iter 118/150 - Loss: -0.018   lengthscale: 0.261   outputscale: 0.751   noise: 0.043\n",
            "Iter 119/150 - Loss: -0.018   lengthscale: 0.261   outputscale: 0.751   noise: 0.043\n",
            "Iter 120/150 - Loss: -0.018   lengthscale: 0.261   outputscale: 0.751   noise: 0.043\n",
            "Iter 121/150 - Loss: -0.018   lengthscale: 0.261   outputscale: 0.752   noise: 0.043\n",
            "Iter 122/150 - Loss: -0.018   lengthscale: 0.261   outputscale: 0.752   noise: 0.043\n",
            "Iter 123/150 - Loss: -0.018   lengthscale: 0.260   outputscale: 0.752   noise: 0.043\n",
            "Iter 124/150 - Loss: -0.018   lengthscale: 0.260   outputscale: 0.753   noise: 0.043\n",
            "Iter 125/150 - Loss: -0.018   lengthscale: 0.260   outputscale: 0.753   noise: 0.043\n",
            "Iter 126/150 - Loss: -0.018   lengthscale: 0.260   outputscale: 0.754   noise: 0.043\n",
            "Iter 127/150 - Loss: -0.018   lengthscale: 0.260   outputscale: 0.754   noise: 0.043\n",
            "Iter 128/150 - Loss: -0.018   lengthscale: 0.260   outputscale: 0.754   noise: 0.043\n",
            "Iter 129/150 - Loss: -0.018   lengthscale: 0.260   outputscale: 0.754   noise: 0.043\n",
            "Iter 130/150 - Loss: -0.018   lengthscale: 0.260   outputscale: 0.754   noise: 0.043\n",
            "Iter 131/150 - Loss: -0.018   lengthscale: 0.260   outputscale: 0.754   noise: 0.043\n",
            "Iter 132/150 - Loss: -0.018   lengthscale: 0.260   outputscale: 0.754   noise: 0.043\n",
            "Iter 133/150 - Loss: -0.018   lengthscale: 0.260   outputscale: 0.754   noise: 0.043\n",
            "Iter 134/150 - Loss: -0.018   lengthscale: 0.260   outputscale: 0.754   noise: 0.043\n",
            "Iter 135/150 - Loss: -0.018   lengthscale: 0.260   outputscale: 0.753   noise: 0.043\n",
            "Iter 136/150 - Loss: -0.018   lengthscale: 0.260   outputscale: 0.753   noise: 0.043\n",
            "Iter 137/150 - Loss: -0.018   lengthscale: 0.260   outputscale: 0.753   noise: 0.043\n",
            "Iter 138/150 - Loss: -0.018   lengthscale: 0.260   outputscale: 0.753   noise: 0.043\n",
            "Iter 139/150 - Loss: -0.018   lengthscale: 0.260   outputscale: 0.753   noise: 0.043\n",
            "Iter 140/150 - Loss: -0.018   lengthscale: 0.261   outputscale: 0.753   noise: 0.043\n",
            "Iter 141/150 - Loss: -0.018   lengthscale: 0.261   outputscale: 0.753   noise: 0.043\n",
            "Iter 142/150 - Loss: -0.018   lengthscale: 0.261   outputscale: 0.753   noise: 0.043\n",
            "Iter 143/150 - Loss: -0.018   lengthscale: 0.261   outputscale: 0.753   noise: 0.043\n",
            "Iter 144/150 - Loss: -0.018   lengthscale: 0.261   outputscale: 0.753   noise: 0.043\n",
            "Iter 145/150 - Loss: -0.018   lengthscale: 0.260   outputscale: 0.753   noise: 0.043\n",
            "Iter 146/150 - Loss: -0.018   lengthscale: 0.260   outputscale: 0.753   noise: 0.043\n",
            "Iter 147/150 - Loss: -0.018   lengthscale: 0.260   outputscale: 0.754   noise: 0.043\n",
            "Iter 148/150 - Loss: -0.018   lengthscale: 0.260   outputscale: 0.754   noise: 0.043\n",
            "Iter 149/150 - Loss: -0.018   lengthscale: 0.260   outputscale: 0.754   noise: 0.043\n",
            "Iter 150/150 - Loss: -0.018   lengthscale: 0.260   outputscale: 0.754   noise: 0.043\n"
          ]
        }
      ]
    },
    {
      "cell_type": "code",
      "source": [
        "# Get into evaluation (predictive posterior) mode\n",
        "model.eval()\n",
        "likelihood.eval()\n",
        "\n",
        "# Test points are regularly spaced along [0,1]\n",
        "# Make predictions by feeding model through likelihood\n",
        "with torch.no_grad(), gpytorch.settings.fast_pred_var():\n",
        "    test_x = torch.linspace(0, 1, 51)\n",
        "    observed_pred = likelihood(model(test_x))"
      ],
      "metadata": {
        "id": "Cp2mOG0W9Wh6"
      },
      "execution_count": 22,
      "outputs": []
    },
    {
      "cell_type": "code",
      "source": [
        "with torch.no_grad():\n",
        "    # Initialize plot\n",
        "    f, ax = plt.subplots(1, 1, figsize=(4, 3))\n",
        "\n",
        "    # Get upper and lower confidence bounds\n",
        "    lower, upper = observed_pred.confidence_region()\n",
        "    # Plot training data as black stars\n",
        "    ax.plot(train_x.numpy(), train_y.numpy(), 'k*')\n",
        "    # Plot predictive means as blue line\n",
        "    ax.plot(test_x.numpy(), observed_pred.mean.numpy(), 'b')\n",
        "    # Shade between the lower and upper confidence bounds\n",
        "    ax.fill_between(test_x.numpy(), lower.numpy(), upper.numpy(), alpha=0.5)\n",
        "    ax.set_ylim([-3, 3])\n",
        "    ax.legend(['Observed Data', 'Mean', 'Confidence'])"
      ],
      "metadata": {
        "colab": {
          "base_uri": "https://localhost:8080/",
          "height": 215
        },
        "id": "keySrOmJ9bqh",
        "outputId": "bf98041f-1b78-427c-e58c-8327adf64474"
      },
      "execution_count": 23,
      "outputs": [
        {
          "output_type": "display_data",
          "data": {
            "text/plain": [
              "<Figure size 288x216 with 1 Axes>"
            ],
            "image/png": "[encoded data removed]"
          },
          "metadata": {
            "needs_background": "light"
          }
        }
      ]
    }
  ]
}