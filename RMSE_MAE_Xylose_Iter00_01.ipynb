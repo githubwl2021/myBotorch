{
  "nbformat": 4,
  "nbformat_minor": 0,
  "metadata": {
    "colab": {
      "name": "Untitled0.ipynb",
      "provenance": [],
      "authorship_tag": "ABX9TyO4B7mZC8vcGZnvaE1uQ5x4"
    },
    "kernelspec": {
      "name": "python3",
      "display_name": "Python 3"
    },
    "language_info": {
      "name": "python"
    }
  },
  "cells": [
    {
      "cell_type": "code",
      "execution_count": null,
      "metadata": {
        "id": "6PSHHwtKQwXQ"
      },
      "outputs": [],
      "source": [
        "pip install botorch"
      ]
    },
    {
      "cell_type": "code",
      "source": [
        "import pandas as pd\n",
        "import torch\n",
        "\n",
        "#import random\n",
        "#random.seed(0)\n",
        "#import numpy as np\n",
        "#np.random.seed(0)\n",
        "\n",
        "train_data = pd.read_excel('data_sample_multiple_components_withoutAverage_XYLOSE_9objs_iter00.xlsx')\n",
        "#print(train_data)\n",
        "train_x = train_data.iloc[:,[0,1]].values\n",
        "#print(train_X)\n",
        "train_x = torch.tensor(train_x, dtype=torch.float32)\n",
        "print(train_x)\n",
        "\n",
        "train_obj = train_data.iloc[:,2:].values\n",
        "#print(train_Y)\n",
        "train_obj = torch.tensor(train_obj, dtype=torch.float32)\n",
        "print(train_obj)"
      ],
      "metadata": {
        "colab": {
          "base_uri": "https://localhost:8080/"
        },
        "id": "70SVSUhIRYqN",
        "outputId": "d5b62465-f9d2-46f8-f44b-7515ec4f2dab"
      },
      "execution_count": 2,
      "outputs": [
        {
          "output_type": "stream",
          "name": "stdout",
          "text": [
            "tensor([[0.0050, 0.5000],\n",
            "        [0.0050, 0.5000],\n",
            "        [0.0050, 0.5000],\n",
            "        [0.0050, 1.0000],\n",
            "        [0.0050, 1.0000],\n",
            "        [0.0050, 1.0000],\n",
            "        [0.0050, 2.0000],\n",
            "        [0.0050, 2.0000],\n",
            "        [0.0050, 2.0000],\n",
            "        [0.0406, 0.5000],\n",
            "        [0.0406, 0.5000],\n",
            "        [0.0406, 0.5000],\n",
            "        [0.0406, 1.0000],\n",
            "        [0.0406, 1.0000],\n",
            "        [0.0406, 1.0000],\n",
            "        [0.0406, 2.0000],\n",
            "        [0.0406, 2.0000],\n",
            "        [0.0406, 2.0000]])\n",
            "tensor([[ 0.1151,  0.0591,  0.0179,  0.1398,  0.0145,  0.1592,  0.0000,  0.0449,\n",
            "         -0.4976],\n",
            "        [ 0.1204,  0.0640,  0.0071,  0.0992,  0.0158,  0.1706,  0.0000,  0.0681,\n",
            "         -0.5348],\n",
            "        [ 0.1208,  0.0784,  0.0150,  0.1011,  0.0197,  0.2304,  0.0000,  0.0672,\n",
            "         -0.5016],\n",
            "        [ 0.1024,  0.0539,  0.0177,  0.1356,  0.0156,  0.1934,  0.0000,  0.0000,\n",
            "         -0.7619],\n",
            "        [ 0.1322,  0.0667,  0.0117,  0.1610,  0.0230,  0.2715,  0.0000,  0.0000,\n",
            "         -0.8775],\n",
            "        [ 0.0982,  0.0602,  0.0154,  0.1305,  0.0218,  0.2816,  0.0000,  0.0000,\n",
            "         -0.7949],\n",
            "        [ 0.0484,  0.0434,  0.0103,  0.1524,  0.0213,  0.2295,  0.0260,  0.0000,\n",
            "         -0.8971],\n",
            "        [ 0.0479,  0.0359,  0.0126,  0.1290,  0.0172,  0.1683,  0.0237,  0.0000,\n",
            "         -0.7894],\n",
            "        [ 0.0518,  0.0526,  0.0117,  0.1508,  0.0243,  0.2892,  0.0244,  0.0000,\n",
            "         -0.8277],\n",
            "        [ 0.1323,  0.0942,  0.0125,  0.1369,  0.0121,  0.1369,  0.0685,  0.0000,\n",
            "         -0.9660],\n",
            "        [ 0.1354,  0.0995,  0.0157,  0.0800,  0.0148,  0.1612,  0.0653,  0.0000,\n",
            "         -0.5779],\n",
            "        [ 0.1214,  0.0743,  0.0112,  0.0940,  0.0133,  0.1591,  0.0627,  0.0000,\n",
            "         -0.5339],\n",
            "        [ 0.1374,  0.0571,  0.0087,  0.1484,  0.0101,  0.1913,  0.0878,  0.0000,\n",
            "         -0.9172],\n",
            "        [ 0.1090,  0.0560,  0.0141,  0.1009,  0.0114,  0.1848,  0.0797,  0.0000,\n",
            "         -0.7862],\n",
            "        [ 0.1017,  0.0493,  0.0119,  0.1176,  0.0107,  0.1541,  0.0833,  0.0000,\n",
            "         -0.8190],\n",
            "        [ 0.0945,  0.0373,  0.0088,  0.1552,  0.0148,  0.1850,  0.1188,  0.0000,\n",
            "         -1.0393],\n",
            "        [ 0.0693,  0.0381,  0.0091,  0.1026,  0.0150,  0.1555,  0.0836,  0.0000,\n",
            "         -0.8576],\n",
            "        [ 0.0583,  0.0312,  0.0066,  0.1126,  0.0110,  0.1470,  0.0561,  0.0000,\n",
            "         -0.7724]])\n"
          ]
        }
      ]
    },
    {
      "cell_type": "code",
      "source": [
        "from botorch import fit_gpytorch_model\n",
        "from botorch.models.gp_regression import FixedNoiseGP\n",
        "from botorch.models.transforms.outcome import Standardize\n",
        "from botorch.models.model_list_gp_regression import ModelListGP\n",
        "from gpytorch.mlls.sum_marginal_log_likelihood import SumMarginalLogLikelihood\n",
        "from botorch.utils.transforms import unnormalize, normalize\n",
        "from botorch.utils.multi_objective.box_decompositions.non_dominated import FastNondominatedPartitioning\n",
        "from botorch.acquisition.multi_objective.monte_carlo import qExpectedHypervolumeImprovement\n",
        "from botorch.sampling.samplers import SobolQMCNormalSampler\n",
        "from botorch.optim.optimize import optimize_acqf\n",
        "\n",
        "torch.manual_seed(0)\n",
        "\n",
        "NOISE_SE = torch.tensor([1,1,1,1,1,1,1,1,1])\n",
        "#print(NOISE_SE)\n",
        "\n",
        "# define models for objective and constraint\n",
        "models = []\n",
        "for i in range(train_obj.shape[-1]):\n",
        "    train_y = train_obj[..., i:i+1]\n",
        "    train_yvar = torch.full_like(train_y, NOISE_SE[i] ** 2)\n",
        "    models.append(FixedNoiseGP(train_x, train_y, train_yvar, outcome_transform=Standardize(m=1)))\n",
        "model = ModelListGP(*models)\n",
        "mll = SumMarginalLogLikelihood(model.likelihood, model)\n",
        "fit_gpytorch_model(mll)\n",
        "\n",
        "BATCH_SIZE = 10\n",
        "NUM_RESTARTS = 2\n",
        "RAW_SAMPLES = 4\n",
        "MC_SAMPLES = 16\n",
        "\n",
        "standard_bounds = torch.tensor([[0.001, 0.1],[0.05, 3]])\n",
        "#print(standard_bounds)\n",
        "ref_point=torch.tensor([0.0,0.0,0.0,0.0,0.0,0.0,0.0,0.0,-1.0])\n",
        "\n",
        "with torch.no_grad():\n",
        "  #pred = model.posterior(normalize(train_x, standard_bounds)).mean\n",
        "  pred = model.posterior(train_x).mean\n",
        "partitioning = FastNondominatedPartitioning(ref_point, Y=pred)\n",
        "sampler = SobolQMCNormalSampler(num_samples=MC_SAMPLES)\n",
        "acq_func = qExpectedHypervolumeImprovement(model,ref_point,partitioning,sampler)\n",
        "\n",
        "candidates, _ = optimize_acqf(\n",
        "        acq_function=acq_func,\n",
        "        bounds=standard_bounds,\n",
        "        q=BATCH_SIZE,\n",
        "        num_restarts=NUM_RESTARTS,\n",
        "        raw_samples=RAW_SAMPLES,  # used for intialization heuristic\n",
        "        #options={\"batch_limit\": 5, \"maxiter\": 200},\n",
        "        sequential=True)\n",
        "#candidates =  unnormalize(candidates.detach(), bounds=standard_bounds)\n",
        "print(candidates)"
      ],
      "metadata": {
        "colab": {
          "base_uri": "https://localhost:8080/"
        },
        "id": "F0sddl3uRrRV",
        "outputId": "4fb4ffd2-602d-4be5-8b3b-f70eb998c3c6"
      },
      "execution_count": 3,
      "outputs": [
        {
          "output_type": "stream",
          "name": "stderr",
          "text": [
            "/usr/local/lib/python3.7/dist-packages/gpytorch/lazy/lazy_tensor.py:1810: UserWarning: torch.triangular_solve is deprecated in favor of torch.linalg.solve_triangularand will be removed in a future PyTorch release.\n",
            "torch.linalg.solve_triangular has its arguments reversed and does not return a copy of one of the inputs.\n",
            "X = torch.triangular_solve(B, A).solution\n",
            "should be replaced with\n",
            "X = torch.linalg.solve_triangular(A, B). (Triggered internally at  ../aten/src/ATen/native/BatchLinearAlgebra.cpp:2183.)\n",
            "  Linv = torch.triangular_solve(Eye, L, upper=False).solution\n"
          ]
        },
        {
          "output_type": "stream",
          "name": "stdout",
          "text": [
            "tensor([[4.1770e-02, 1.5790e-01],\n",
            "        [1.3619e-02, 2.5995e+00],\n",
            "        [1.9970e-02, 2.2111e-01],\n",
            "        [4.4772e-02, 2.0989e+00],\n",
            "        [3.9377e-02, 1.7199e+00],\n",
            "        [1.2088e-03, 3.8620e-01],\n",
            "        [4.0980e-03, 6.6677e-01],\n",
            "        [5.1903e-03, 2.7432e+00],\n",
            "        [3.3898e-02, 2.4039e+00],\n",
            "        [2.4758e-02, 2.5757e-01]])\n"
          ]
        }
      ]
    },
    {
      "cell_type": "code",
      "source": [
        "selected_candidates_idx = [5,1,9,0,3]\n",
        "selected_candidates = candidates[selected_candidates_idx]\n",
        "print(selected_candidates)\n",
        "pred = model.posterior(selected_candidates).mean.squeeze().detach().numpy()\n",
        "print(pred)\n",
        "\n",
        "ground_truth_data = pd.read_excel('data_sample_multiple_components_withoutAverage_XYLOSE_9objs_iter01.xlsx')\n",
        "gt_x = ground_truth_data.iloc[-5:,[0,1]].values\n",
        "gt_x = torch.tensor(gt_x, dtype=torch.float32)\n",
        "print(gt_x)\n",
        "\n",
        "gt_y = ground_truth_data.iloc[-5:,2:].values\n",
        "gt_y = torch.tensor(gt_y, dtype=torch.float32)\n",
        "print(gt_y)"
      ],
      "metadata": {
        "colab": {
          "base_uri": "https://localhost:8080/"
        },
        "id": "jX1ix0jOTU3B",
        "outputId": "f5d5af4c-c3de-48dd-d32f-bbafc8cd85e2"
      },
      "execution_count": 4,
      "outputs": [
        {
          "output_type": "stream",
          "name": "stdout",
          "text": [
            "tensor([[1.2088e-03, 3.8620e-01],\n",
            "        [1.3619e-02, 2.5995e+00],\n",
            "        [2.4758e-02, 2.5757e-01],\n",
            "        [4.1770e-02, 1.5790e-01],\n",
            "        [4.4772e-02, 2.0989e+00]])\n",
            "[[ 0.10062254  0.05864052  0.01210833  0.12456533  0.01590535  0.19137996\n",
            "   0.04283233  0.01035036 -0.7154851 ]\n",
            " [ 0.09949002  0.05834174  0.01210758  0.12491009  0.01590623  0.19274828\n",
            "   0.04349155  0.00996444 -0.77307737]\n",
            " [ 0.10039482  0.05858151  0.01210818  0.12463284  0.01590552  0.19163907\n",
            "   0.04297281  0.01027166 -0.72696686]\n",
            " [ 0.10021842  0.0585317   0.01210807  0.12469376  0.01590566  0.19189961\n",
            "   0.04308145  0.01020252 -0.7370997 ]\n",
            " [ 0.09848706  0.05814686  0.01210682  0.12506032  0.015907    0.19292289\n",
            "   0.04397837  0.00980681 -0.79893154]]\n",
            "tensor([[1.2088e-03, 3.8620e-01],\n",
            "        [1.3619e-02, 2.5995e+00],\n",
            "        [2.4758e-02, 2.5750e-01],\n",
            "        [4.1170e-02, 1.5790e-01],\n",
            "        [4.4772e-02, 2.0989e+00]])\n",
            "tensor([[ 0.0775,  0.0430,  0.0218,  0.0000,  0.0208,  0.1867,  0.0000,  0.0252,\n",
            "         -0.1886],\n",
            "        [ 0.0427,  0.0255,  0.0136,  0.0980,  0.0258,  0.1675,  0.0470,  0.0000,\n",
            "         -0.4236],\n",
            "        [ 0.0855,  0.0659,  0.0196,  0.0962,  0.0219,  0.1659,  0.0568,  0.0278,\n",
            "         -0.2157],\n",
            "        [ 0.1175,  0.1457,  0.0190,  0.0665,  0.0269,  0.1815,  0.0698,  0.0275,\n",
            "         -0.1471],\n",
            "        [ 0.0929,  0.0430,  0.0145,  0.1384,  0.0263,  0.2264,  0.1903,  0.0000,\n",
            "         -0.6831]])\n"
          ]
        }
      ]
    },
    {
      "cell_type": "code",
      "source": [
        "from sklearn.metrics import mean_squared_error\n",
        "from sklearn.metrics import mean_absolute_error\n",
        "rmse = mean_squared_error(gt_y, pred, multioutput='raw_values',squared=False)\n",
        "print(rmse)\n",
        "mae = mean_absolute_error(gt_y, pred, multioutput='raw_values')\n",
        "print(mae)"
      ],
      "metadata": {
        "colab": {
          "base_uri": "https://localhost:8080/"
        },
        "id": "07X_AoZVUuw-",
        "outputId": "9873e379-d897-482f-e7b8-1680732a8198"
      },
      "execution_count": 5,
      "outputs": [
        {
          "output_type": "stream",
          "name": "stdout",
          "text": [
            "[0.02934417 0.04291347 0.00640946 0.06421259 0.00878954 0.02259344\n",
            " 0.06953099 0.01430563 0.45225087]\n",
            "[0.02352292 0.03162528 0.00559806 0.05029143 0.00843321 0.01991939\n",
            " 0.04664189 0.01389415 0.41869694]\n"
          ]
        }
      ]
    },
    {
      "cell_type": "code",
      "source": [
        "import matplotlib.pyplot as plt\n",
        "import numpy as np\n",
        "\n",
        "x = np.array([1,2,3,4,5,6,7,8,9])\n",
        "plt.plot(x, rmse, label='RMSE')\n",
        "plt.plot(x, mae, label='MAE')\n",
        "plt.title(\"RMSE & MAE of 9 components at iter01 with Xylose\")\n",
        "plt.xlabel(\"component index\")\n",
        "plt.ylabel(\"RMSE & MAE\")\n",
        "plt.legend()\n",
        "plt.show()"
      ],
      "metadata": {
        "colab": {
          "base_uri": "https://localhost:8080/",
          "height": 295
        },
        "id": "jmiZn3jZU7xv",
        "outputId": "16043994-87bf-462c-e54b-3915943a241a"
      },
      "execution_count": 6,
      "outputs": [
        {
          "output_type": "display_data",
          "data": {
            "text/plain": [
              "<Figure size 432x288 with 1 Axes>"
            ],
            "image/png": "[encoded data removed]"
          },
          "metadata": {
            "needs_background": "light"
          }
        }
      ]
    }
  ]
}