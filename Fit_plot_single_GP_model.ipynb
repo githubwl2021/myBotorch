{
  "nbformat": 4,
  "nbformat_minor": 0,
  "metadata": {
    "colab": {
      "name": "Untitled11.ipynb",
      "provenance": [],
      "authorship_tag": "ABX9TyMKlxaQ396G+XOFWGw6EEfq"
    },
    "kernelspec": {
      "name": "python3",
      "display_name": "Python 3"
    },
    "language_info": {
      "name": "python"
    }
  },
  "cells": [
    {
      "cell_type": "code",
      "execution_count": 7,
      "metadata": {
        "colab": {
          "base_uri": "https://localhost:8080/"
        },
        "id": "tWEWfa4fdhil",
        "outputId": "c6f7a314-166b-42af-fdd5-f4a373c1658a"
      },
      "outputs": [
        {
          "output_type": "stream",
          "name": "stdout",
          "text": [
            "Requirement already satisfied: botorch in /usr/local/lib/python3.7/dist-packages (0.6.4)\n",
            "Requirement already satisfied: torch>=1.9 in /usr/local/lib/python3.7/dist-packages (from botorch) (1.11.0+cu113)\n",
            "Requirement already satisfied: gpytorch>=1.6 in /usr/local/lib/python3.7/dist-packages (from botorch) (1.6.0)\n",
            "Requirement already satisfied: scipy in /usr/local/lib/python3.7/dist-packages (from botorch) (1.4.1)\n",
            "Requirement already satisfied: multipledispatch in /usr/local/lib/python3.7/dist-packages (from botorch) (0.6.0)\n",
            "Requirement already satisfied: pyro-ppl==1.8.0 in /usr/local/lib/python3.7/dist-packages (from botorch) (1.8.0)\n",
            "Requirement already satisfied: pyro-api>=0.1.1 in /usr/local/lib/python3.7/dist-packages (from pyro-ppl==1.8.0->botorch) (0.1.2)\n",
            "Requirement already satisfied: numpy>=1.7 in /usr/local/lib/python3.7/dist-packages (from pyro-ppl==1.8.0->botorch) (1.21.6)\n",
            "Requirement already satisfied: opt-einsum>=2.3.2 in /usr/local/lib/python3.7/dist-packages (from pyro-ppl==1.8.0->botorch) (3.3.0)\n",
            "Requirement already satisfied: tqdm>=4.36 in /usr/local/lib/python3.7/dist-packages (from pyro-ppl==1.8.0->botorch) (4.64.0)\n",
            "Requirement already satisfied: typing-extensions in /usr/local/lib/python3.7/dist-packages (from torch>=1.9->botorch) (4.2.0)\n",
            "Requirement already satisfied: six in /usr/local/lib/python3.7/dist-packages (from multipledispatch->botorch) (1.15.0)\n"
          ]
        }
      ],
      "source": [
        "pip install botorch"
      ]
    },
    {
      "cell_type": "code",
      "source": [
        "import pandas as pd\n",
        "import torch\n",
        "\n",
        "train_data = pd.read_excel('data_sample_multiple_components_GLU_9objs.xlsx')\n",
        "#print(train_data)\n",
        "train_x = train_data.iloc[:,[1]].values\n",
        "#print(train_X)\n",
        "train_x = torch.tensor(train_x, dtype=torch.float32)\n",
        "print(train_x)\n",
        "\n",
        "train_obj = train_data.iloc[:,[2]].values\n",
        "#print(train_Y)\n",
        "train_obj = torch.tensor(train_obj, dtype=torch.float32)\n",
        "print(train_obj)"
      ],
      "metadata": {
        "colab": {
          "base_uri": "https://localhost:8080/"
        },
        "id": "cefBsHg4dtPQ",
        "outputId": "e8b33079-a30b-4e06-866d-e888020c3924"
      },
      "execution_count": 4,
      "outputs": [
        {
          "output_type": "stream",
          "name": "stdout",
          "text": [
            "tensor([[0.5000],\n",
            "        [0.5000],\n",
            "        [0.5000],\n",
            "        [0.5000],\n",
            "        [1.0000],\n",
            "        [1.0000],\n",
            "        [1.0000],\n",
            "        [1.0000],\n",
            "        [2.0000],\n",
            "        [2.0000],\n",
            "        [2.0000],\n",
            "        [2.0000],\n",
            "        [0.5000],\n",
            "        [0.5000],\n",
            "        [0.5000],\n",
            "        [0.5000],\n",
            "        [1.0000],\n",
            "        [1.0000],\n",
            "        [1.0000],\n",
            "        [1.0000],\n",
            "        [2.0000],\n",
            "        [2.0000],\n",
            "        [2.0000],\n",
            "        [2.0000]])\n",
            "tensor([[0.0450],\n",
            "        [0.0390],\n",
            "        [0.0470],\n",
            "        [0.0430],\n",
            "        [0.0500],\n",
            "        [0.0510],\n",
            "        [0.0490],\n",
            "        [0.0500],\n",
            "        [0.0550],\n",
            "        [0.0530],\n",
            "        [0.0420],\n",
            "        [0.0500],\n",
            "        [0.0420],\n",
            "        [0.0490],\n",
            "        [0.0430],\n",
            "        [0.0440],\n",
            "        [0.0480],\n",
            "        [0.0480],\n",
            "        [0.0640],\n",
            "        [0.0530],\n",
            "        [0.0560],\n",
            "        [0.0570],\n",
            "        [0.0620],\n",
            "        [0.0580]])\n"
          ]
        }
      ]
    },
    {
      "cell_type": "code",
      "source": [
        "import math\n",
        "import torch\n",
        "\n",
        "# use a GPU if available\n",
        "device = torch.device(\"cuda\" if torch.cuda.is_available() else \"cpu\")\n",
        "dtype = torch.float"
      ],
      "metadata": {
        "id": "vXP7GWnVe8_v"
      },
      "execution_count": 5,
      "outputs": []
    },
    {
      "cell_type": "code",
      "source": [
        "# initialize the model using SingleTaskGP (L-BFGS-B)\n",
        "\n",
        "from botorch.models import SingleTaskGP\n",
        "from gpytorch.constraints import GreaterThan\n",
        "\n",
        "model = SingleTaskGP(train_X=train_x, train_Y=train_obj)\n",
        "model.likelihood.noise_covar.register_constraint(\"raw_noise\", GreaterThan(1e-5))"
      ],
      "metadata": {
        "id": "YPsWTb0hfAs7"
      },
      "execution_count": 6,
      "outputs": []
    },
    {
      "cell_type": "code",
      "source": [
        "# Define marginal log likelihood\n",
        "\n",
        "from gpytorch.mlls import ExactMarginalLogLikelihood\n",
        "\n",
        "mll = ExactMarginalLogLikelihood(likelihood=model.likelihood, model=model)\n",
        "# set mll and all submodules to the specified dtype and device\n",
        "mll = mll.to(train_x)"
      ],
      "metadata": {
        "id": "2nOI5AyRhYUy"
      },
      "execution_count": 8,
      "outputs": []
    },
    {
      "cell_type": "code",
      "source": [
        "# Define optimizer and specify parameters to optimize\n",
        "\n",
        "from torch.optim import SGD\n",
        "\n",
        "optimizer = SGD([{'params': model.parameters()}], lr=0.1)"
      ],
      "metadata": {
        "id": "eWhjmwcgitOO"
      },
      "execution_count": 9,
      "outputs": []
    },
    {
      "cell_type": "code",
      "source": [
        "# Fit model hyperparameters and noise level\n",
        "\n",
        "NUM_EPOCHS = 150\n",
        "\n",
        "model.train()\n",
        "\n",
        "for epoch in range(NUM_EPOCHS):\n",
        "    # clear gradients\n",
        "    optimizer.zero_grad()\n",
        "    # forward pass through the model to obtain the output MultivariateNormal\n",
        "    output = model(train_x)\n",
        "    # Compute negative marginal log likelihood\n",
        "    loss = - mll(output, model.train_targets)\n",
        "    # back prop gradients\n",
        "    loss.backward()\n",
        "    # print every 10 iterations\n",
        "    if (epoch + 1) % 10 == 0:\n",
        "        print(\n",
        "            f\"Epoch {epoch+1:>3}/{NUM_EPOCHS} - Loss: {loss.item():>4.3f} \"\n",
        "            f\"lengthscale: {model.covar_module.base_kernel.lengthscale.item():>4.3f} \" \n",
        "            f\"noise: {model.likelihood.noise.item():>4.3f}\" \n",
        "         )\n",
        "    optimizer.step()"
      ],
      "metadata": {
        "colab": {
          "base_uri": "https://localhost:8080/"
        },
        "id": "Pi3GedkYi42V",
        "outputId": "fb4eeec4-dd94-4498-827b-2e4a9fc14f7d"
      },
      "execution_count": 10,
      "outputs": [
        {
          "output_type": "stream",
          "name": "stderr",
          "text": [
            "/usr/local/lib/python3.7/dist-packages/gpytorch/lazy/triangular_lazy_tensor.py:130: UserWarning: torch.triangular_solve is deprecated in favor of torch.linalg.solve_triangularand will be removed in a future PyTorch release.\n",
            "torch.linalg.solve_triangular has its arguments reversed and does not return a copy of one of the inputs.\n",
            "X = torch.triangular_solve(B, A).solution\n",
            "should be replaced with\n",
            "X = torch.linalg.solve_triangular(A, B). (Triggered internally at  ../aten/src/ATen/native/BatchLinearAlgebra.cpp:1672.)\n",
            "  res = torch.triangular_solve(right_tensor, self.evaluate(), upper=self.upper).solution\n"
          ]
        },
        {
          "output_type": "stream",
          "name": "stdout",
          "text": [
            "Epoch  10/150 - Loss: 1.656 lengthscale: 0.669 noise: 1.974\n",
            "Epoch  20/150 - Loss: 1.611 lengthscale: 0.646 noise: 1.801\n",
            "Epoch  30/150 - Loss: 1.562 lengthscale: 0.624 noise: 1.623\n",
            "Epoch  40/150 - Loss: 1.506 lengthscale: 0.605 noise: 1.441\n",
            "Epoch  50/150 - Loss: 1.443 lengthscale: 0.588 noise: 1.258\n",
            "Epoch  60/150 - Loss: 1.372 lengthscale: 0.572 noise: 1.077\n",
            "Epoch  70/150 - Loss: 1.290 lengthscale: 0.558 noise: 0.899\n",
            "Epoch  80/150 - Loss: 1.196 lengthscale: 0.546 noise: 0.730\n",
            "Epoch  90/150 - Loss: 1.090 lengthscale: 0.534 noise: 0.575\n",
            "Epoch 100/150 - Loss: 0.969 lengthscale: 0.524 noise: 0.438\n",
            "Epoch 110/150 - Loss: 0.835 lengthscale: 0.515 noise: 0.324\n",
            "Epoch 120/150 - Loss: 0.688 lengthscale: 0.507 noise: 0.232\n",
            "Epoch 130/150 - Loss: 0.530 lengthscale: 0.500 noise: 0.162\n",
            "Epoch 140/150 - Loss: 0.364 lengthscale: 0.493 noise: 0.110\n",
            "Epoch 150/150 - Loss: 0.191 lengthscale: 0.486 noise: 0.074\n"
          ]
        }
      ]
    },
    {
      "cell_type": "code",
      "source": [
        "# set model (and likelihood)\n",
        "model.eval();"
      ],
      "metadata": {
        "id": "2A9mulQ8j7PB"
      },
      "execution_count": 11,
      "outputs": []
    },
    {
      "cell_type": "code",
      "source": [
        "from matplotlib import pyplot as plt\n",
        "%matplotlib inline\n",
        "\n",
        "# Initialize plot\n",
        "f, ax = plt.subplots(1, 1, figsize=(6, 4))\n",
        "# test model on 101 regular spaced points on the interval [0.1, 3]\n",
        "test_X = torch.linspace(0.1, 3, 101, dtype=dtype, device=device)\n",
        "# no need for gradients\n",
        "with torch.no_grad():\n",
        "    # compute posterior\n",
        "    posterior = model.posterior(test_X)\n",
        "    # Get upper and lower confidence bounds (2 standard deviations from the mean)\n",
        "    lower, upper = posterior.mvn.confidence_region()\n",
        "    # Plot training points as black stars\n",
        "    ax.plot(train_x.cpu().numpy(), train_obj.cpu().numpy(), 'k*')\n",
        "    # Plot posterior means as blue line\n",
        "    ax.plot(test_X.cpu().numpy(), posterior.mean.cpu().numpy(), 'b')\n",
        "    # Shade between the lower and upper confidence bounds\n",
        "    ax.fill_between(test_X.cpu().numpy(), lower.cpu().numpy(), upper.cpu().numpy(), alpha=0.5)\n",
        "ax.legend(['Observed Data', 'Mean', 'Confidence'])\n",
        "plt.tight_layout()"
      ],
      "metadata": {
        "colab": {
          "base_uri": "https://localhost:8080/",
          "height": 297
        },
        "id": "7eg7GTU2kFQz",
        "outputId": "7d62b005-9826-4ae9-bf09-8a095c18c8c8"
      },
      "execution_count": 12,
      "outputs": [
        {
          "output_type": "display_data",
          "data": {
            "text/plain": [
              "<Figure size 432x288 with 1 Axes>"
            ],
            "image/png": "[encoded data removed]"
          },
          "metadata": {
            "needs_background": "light"
          }
        }
      ]
    }
  ]
}