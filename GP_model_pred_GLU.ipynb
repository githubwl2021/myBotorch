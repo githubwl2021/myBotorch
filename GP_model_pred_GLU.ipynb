{
  "nbformat": 4,
  "nbformat_minor": 0,
  "metadata": {
    "colab": {
      "name": "Untitled10.ipynb",
      "provenance": [],
      "authorship_tag": "ABX9TyOW8++PsEhu+vt2Bj7jERpN"
    },
    "kernelspec": {
      "name": "python3",
      "display_name": "Python 3"
    },
    "language_info": {
      "name": "python"
    }
  },
  "cells": [
    {
      "cell_type": "code",
      "execution_count": null,
      "metadata": {
        "id": "TPw7uhtrgUmh"
      },
      "outputs": [],
      "source": [
        "pip install botorch"
      ]
    },
    {
      "cell_type": "code",
      "source": [
        "import pandas as pd\n",
        "import torch\n",
        "\n",
        "train_data = pd.read_excel('data_sample_multiple_components_GLU_9objs.xlsx')\n",
        "#print(train_data)\n",
        "train_x = train_data.iloc[:,[0,1]].values\n",
        "#print(train_X)\n",
        "train_x = torch.tensor(train_x, dtype=torch.float32)\n",
        "print(train_x)\n",
        "\n",
        "train_obj = train_data.iloc[:,2:].values\n",
        "#print(train_Y)\n",
        "train_obj = torch.tensor(train_obj, dtype=torch.float32)\n",
        "print(train_obj)"
      ],
      "metadata": {
        "colab": {
          "base_uri": "https://localhost:8080/"
        },
        "id": "baR2DGZ9g5y9",
        "outputId": "b6e6fc98-da7a-485c-bfca-501d127a8aff"
      },
      "execution_count": 2,
      "outputs": [
        {
          "output_type": "stream",
          "name": "stdout",
          "text": [
            "tensor([[0.0050, 0.5000],\n",
            "        [0.0050, 0.5000],\n",
            "        [0.0050, 0.5000],\n",
            "        [0.0050, 0.5000],\n",
            "        [0.0050, 1.0000],\n",
            "        [0.0050, 1.0000],\n",
            "        [0.0050, 1.0000],\n",
            "        [0.0050, 1.0000],\n",
            "        [0.0050, 2.0000],\n",
            "        [0.0050, 2.0000],\n",
            "        [0.0050, 2.0000],\n",
            "        [0.0050, 2.0000],\n",
            "        [0.0406, 0.5000],\n",
            "        [0.0406, 0.5000],\n",
            "        [0.0406, 0.5000],\n",
            "        [0.0406, 0.5000],\n",
            "        [0.0406, 1.0000],\n",
            "        [0.0406, 1.0000],\n",
            "        [0.0406, 1.0000],\n",
            "        [0.0406, 1.0000],\n",
            "        [0.0406, 2.0000],\n",
            "        [0.0406, 2.0000],\n",
            "        [0.0406, 2.0000],\n",
            "        [0.0406, 2.0000]])\n",
            "tensor([[ 0.0450,  0.0500,  0.0090,  0.0190,  0.1520,  0.0000,  0.0210,  0.0270,\n",
            "         -0.1990],\n",
            "        [ 0.0390,  0.0540,  0.0130,  0.0640,  0.1800,  0.0000,  0.0260,  0.0210,\n",
            "         -0.1990],\n",
            "        [ 0.0470,  0.0660,  0.0140,  0.0280,  0.2280,  0.0000,  0.0330,  0.0400,\n",
            "         -0.1990],\n",
            "        [ 0.0430,  0.0570,  0.0120,  0.0370,  0.1870,  0.0000,  0.0270,  0.0290,\n",
            "         -0.1990],\n",
            "        [ 0.0500,  0.0480,  0.0110,  0.0180,  0.2010,  0.0000,  0.0220,  0.0270,\n",
            "         -0.3740],\n",
            "        [ 0.0510,  0.0610,  0.0200,  0.0220,  0.2160,  0.0000,  0.0290,  0.0180,\n",
            "         -0.3870],\n",
            "        [ 0.0490,  0.0580,  0.0160,  0.0230,  0.2160,  0.0000,  0.0280,  0.0260,\n",
            "         -0.2970],\n",
            "        [ 0.0500,  0.0560,  0.0160,  0.0210,  0.2110,  0.0000,  0.0260,  0.0240,\n",
            "         -0.3530],\n",
            "        [ 0.0550,  0.0470,  0.0190,  0.0170,  0.2520,  0.0000,  0.0220,  0.0300,\n",
            "         -0.6280],\n",
            "        [ 0.0530,  0.0390,  0.0150,  0.0170,  0.1730,  0.0000,  0.0240,  0.0250,\n",
            "         -0.4530],\n",
            "        [ 0.0420,  0.0560,  0.0160,  0.0210,  0.2290,  0.0000,  0.0270,  0.0390,\n",
            "         -0.4000],\n",
            "        [ 0.0500,  0.0470,  0.0170,  0.0180,  0.2180,  0.0000,  0.0240,  0.0310,\n",
            "         -0.4930],\n",
            "        [ 0.0420,  0.0630,  0.0120,  0.0190,  0.2210,  0.0190,  0.0220,  0.0190,\n",
            "         -0.2590],\n",
            "        [ 0.0490,  0.0750,  0.0240,  0.0230,  0.1930,  0.0270,  0.0230,  0.0330,\n",
            "         -0.2180],\n",
            "        [ 0.0430,  0.0710,  0.0210,  0.0240,  0.2080,  0.0250,  0.0210,  0.0190,\n",
            "         -0.2180],\n",
            "        [ 0.0440,  0.0700,  0.0190,  0.0220,  0.2070,  0.0240,  0.0220,  0.0240,\n",
            "         -0.2310],\n",
            "        [ 0.0480,  0.0590,  0.0200,  0.0180,  0.2130,  0.0240,  0.0080,  0.0190,\n",
            "         -0.3770],\n",
            "        [ 0.0480,  0.0710,  0.0140,  0.0220,  0.2640,  0.0210,  0.0280,  0.0300,\n",
            "         -0.3740],\n",
            "        [ 0.0640,  0.0750,  0.0130,  0.0260,  0.1740,  0.0270,  0.0220,  0.0170,\n",
            "         -0.4390],\n",
            "        [ 0.0530,  0.0680,  0.0160,  0.0220,  0.2170,  0.0240,  0.0190,  0.0220,\n",
            "         -0.3970],\n",
            "        [ 0.0560,  0.0600,  0.0170,  0.0180,  0.2330,  0.0220,  0.0220,  0.0160,\n",
            "         -0.6040],\n",
            "        [ 0.0570,  0.0570,  0.0180,  0.0210,  0.1760,  0.0220,  0.0190,  0.0290,\n",
            "         -0.5320],\n",
            "        [ 0.0620,  0.0580,  0.0150,  0.0210,  0.1760,  0.0220,  0.0170,  0.0140,\n",
            "         -0.5740],\n",
            "        [ 0.0580,  0.0580,  0.0160,  0.0200,  0.1950,  0.0220,  0.0190,  0.0200,\n",
            "         -0.5700]])\n"
          ]
        }
      ]
    },
    {
      "cell_type": "code",
      "source": [
        "from botorch import fit_gpytorch_model\n",
        "from botorch.models.gp_regression import FixedNoiseGP\n",
        "from botorch.models.transforms.outcome import Standardize\n",
        "from botorch.models.model_list_gp_regression import ModelListGP\n",
        "from gpytorch.mlls.sum_marginal_log_likelihood import SumMarginalLogLikelihood\n",
        "from botorch.utils.transforms import unnormalize, normalize\n",
        "from botorch.utils.multi_objective.box_decompositions.non_dominated import FastNondominatedPartitioning\n",
        "from botorch.acquisition.multi_objective.monte_carlo import qExpectedHypervolumeImprovement\n",
        "from botorch.sampling.samplers import SobolQMCNormalSampler\n",
        "from botorch.optim.optimize import optimize_acqf\n",
        "\n",
        "NOISE_SE = torch.tensor([1,1,1,1,1,1,1,1,1])\n",
        "#print(NOISE_SE)\n",
        "\n",
        "# define models for objective and constraint\n",
        "models = []\n",
        "for i in range(train_obj.shape[-1]):\n",
        "    train_y = train_obj[..., i:i+1]\n",
        "    train_yvar = torch.full_like(train_y, NOISE_SE[i] ** 2)\n",
        "    models.append(FixedNoiseGP(train_x, train_y, train_yvar, outcome_transform=Standardize(m=1)))\n",
        "model = ModelListGP(*models)\n",
        "mll = SumMarginalLogLikelihood(model.likelihood, model)\n",
        "fit_gpytorch_model(mll)\n",
        "\n",
        "BATCH_SIZE = 10\n",
        "NUM_RESTARTS = 2\n",
        "RAW_SAMPLES = 4\n",
        "MC_SAMPLES = 16\n",
        "\n",
        "standard_bounds = torch.tensor([[0.001, 0.1],[0.05, 3]])\n",
        "#print(standard_bounds)\n",
        "ref_point=torch.tensor([0.0,0.0,0.0,0.0,0.0,0.0,0.0,0.0,-1.0])\n",
        "\n",
        "with torch.no_grad():\n",
        "  #pred = model.posterior(normalize(train_x, standard_bounds)).mean\n",
        "  pred = model.posterior(train_x).mean\n",
        "partitioning = FastNondominatedPartitioning(ref_point, Y=pred)\n",
        "sampler = SobolQMCNormalSampler(num_samples=MC_SAMPLES)\n",
        "acq_func = qExpectedHypervolumeImprovement(model,ref_point,partitioning,sampler)\n",
        "\n",
        "candidates, _ = optimize_acqf(\n",
        "        acq_function=acq_func,\n",
        "        bounds=standard_bounds,\n",
        "        q=BATCH_SIZE,\n",
        "        num_restarts=NUM_RESTARTS,\n",
        "        raw_samples=RAW_SAMPLES,  # used for intialization heuristic\n",
        "        #options={\"batch_limit\": 5, \"maxiter\": 200},\n",
        "        sequential=True)\n",
        "#candidates =  unnormalize(candidates.detach(), bounds=standard_bounds)\n",
        "print(candidates)"
      ],
      "metadata": {
        "colab": {
          "base_uri": "https://localhost:8080/"
        },
        "id": "8hx5tFsEhHqa",
        "outputId": "420e4564-5cb5-405a-931a-086cbf194033"
      },
      "execution_count": 4,
      "outputs": [
        {
          "output_type": "stream",
          "name": "stdout",
          "text": [
            "tensor([[0.0044, 0.3460],\n",
            "        [0.0241, 0.1172],\n",
            "        [0.0198, 0.5596],\n",
            "        [0.0128, 2.3886],\n",
            "        [0.0077, 2.9914],\n",
            "        [0.0178, 0.6583],\n",
            "        [0.0061, 2.6802],\n",
            "        [0.0409, 0.8695],\n",
            "        [0.0082, 0.6672],\n",
            "        [0.0398, 2.5017]])\n"
          ]
        }
      ]
    },
    {
      "cell_type": "code",
      "source": [
        "# predict y from the trained GP model given the X candidates\n",
        "pred = model.posterior(candidates).mean.squeeze().detach().numpy()\n",
        "print(pred)"
      ],
      "metadata": {
        "colab": {
          "base_uri": "https://localhost:8080/"
        },
        "id": "il5BcYdRjV7K",
        "outputId": "9f6eee61-aefc-4d6e-92b3-db59c3bb9c88"
      },
      "execution_count": 21,
      "outputs": [
        {
          "output_type": "stream",
          "name": "stdout",
          "text": [
            "[[ 0.04990618  0.05935005  0.01595806  0.02339904  0.20561391  0.01162659\n",
            "   0.02295985  0.02496088 -0.32957563]\n",
            " [ 0.04991111  0.05934166  0.0159582   0.02338764  0.20571192  0.01162591\n",
            "   0.02295913  0.02495979 -0.3526871 ]\n",
            " [ 0.04990536  0.05935494  0.015958    0.02340072  0.20563637  0.01162767\n",
            "   0.02296001  0.02496025 -0.32335246]\n",
            " [ 0.04992073  0.05931995  0.01595852  0.02336579  0.20584401  0.01162286\n",
            "   0.02295765  0.02495892 -0.4024646 ]\n",
            " [ 0.04991697  0.05933219  0.01595835  0.02337423  0.20583369  0.0116248\n",
            "   0.02295828  0.02495838 -0.38029277]\n",
            " [ 0.04990766  0.05935437  0.01595802  0.02339535  0.20571938  0.0116278\n",
            "   0.02295973  0.02495895 -0.3316051 ]\n",
            " [ 0.04991792  0.05932911  0.01595839  0.02337211  0.20583624  0.01162431\n",
            "   0.02295813  0.02495852 -0.385933  ]\n",
            " [ 0.04991414  0.05935203  0.01595809  0.02338021  0.20594348  0.0116287\n",
            "   0.0229589   0.02495551 -0.3557266 ]\n",
            " [ 0.04990793  0.05935417  0.01595801  0.02339479  0.20572776  0.01162757\n",
            "   0.02295971  0.02495883 -0.33257854]\n",
            " [ 0.04991933  0.05932458  0.01595845  0.02336897  0.20583957  0.01162368\n",
            "   0.02295789  0.02495871 -0.39421973]]\n"
          ]
        }
      ]
    }
  ]
}