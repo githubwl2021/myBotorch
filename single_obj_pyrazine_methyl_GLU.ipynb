{
  "nbformat": 4,
  "nbformat_minor": 0,
  "metadata": {
    "colab": {
      "name": "Untitled1.ipynb",
      "provenance": [],
      "authorship_tag": "ABX9TyOoUDCXePvGrXanXS9J3fQ3"
    },
    "kernelspec": {
      "name": "python3",
      "display_name": "Python 3"
    },
    "language_info": {
      "name": "python"
    }
  },
  "cells": [
    {
      "cell_type": "code",
      "source": [
        "pip install botorch"
      ],
      "metadata": {
        "colab": {
          "base_uri": "https://localhost:8080/"
        },
        "id": "zQ5CFexiHxlg",
        "outputId": "270d9807-7699-4ad5-dcb2-5dabc0d81c38"
      },
      "execution_count": 4,
      "outputs": [
        {
          "output_type": "stream",
          "name": "stdout",
          "text": [
            "Collecting botorch\n",
            "  Downloading botorch-0.6.3.1-py3-none-any.whl (357 kB)\n",
            "\u001b[?25l\r\u001b[K     |█                               | 10 kB 17.2 MB/s eta 0:00:01\r\u001b[K     |█▉                              | 20 kB 11.0 MB/s eta 0:00:01\r\u001b[K     |██▊                             | 30 kB 8.4 MB/s eta 0:00:01\r\u001b[K     |███▋                            | 40 kB 4.5 MB/s eta 0:00:01\r\u001b[K     |████▋                           | 51 kB 4.4 MB/s eta 0:00:01\r\u001b[K     |█████▌                          | 61 kB 5.2 MB/s eta 0:00:01\r\u001b[K     |██████▍                         | 71 kB 5.3 MB/s eta 0:00:01\r\u001b[K     |███████▎                        | 81 kB 5.3 MB/s eta 0:00:01\r\u001b[K     |████████▎                       | 92 kB 5.9 MB/s eta 0:00:01\r\u001b[K     |█████████▏                      | 102 kB 5.2 MB/s eta 0:00:01\r\u001b[K     |██████████                      | 112 kB 5.2 MB/s eta 0:00:01\r\u001b[K     |███████████                     | 122 kB 5.2 MB/s eta 0:00:01\r\u001b[K     |████████████                    | 133 kB 5.2 MB/s eta 0:00:01\r\u001b[K     |████████████▉                   | 143 kB 5.2 MB/s eta 0:00:01\r\u001b[K     |█████████████▊                  | 153 kB 5.2 MB/s eta 0:00:01\r\u001b[K     |██████████████▋                 | 163 kB 5.2 MB/s eta 0:00:01\r\u001b[K     |███████████████▋                | 174 kB 5.2 MB/s eta 0:00:01\r\u001b[K     |████████████████▌               | 184 kB 5.2 MB/s eta 0:00:01\r\u001b[K     |█████████████████▍              | 194 kB 5.2 MB/s eta 0:00:01\r\u001b[K     |██████████████████▎             | 204 kB 5.2 MB/s eta 0:00:01\r\u001b[K     |███████████████████▎            | 215 kB 5.2 MB/s eta 0:00:01\r\u001b[K     |████████████████████▏           | 225 kB 5.2 MB/s eta 0:00:01\r\u001b[K     |█████████████████████           | 235 kB 5.2 MB/s eta 0:00:01\r\u001b[K     |██████████████████████          | 245 kB 5.2 MB/s eta 0:00:01\r\u001b[K     |███████████████████████         | 256 kB 5.2 MB/s eta 0:00:01\r\u001b[K     |███████████████████████▉        | 266 kB 5.2 MB/s eta 0:00:01\r\u001b[K     |████████████████████████▊       | 276 kB 5.2 MB/s eta 0:00:01\r\u001b[K     |█████████████████████████▋      | 286 kB 5.2 MB/s eta 0:00:01\r\u001b[K     |██████████████████████████▋     | 296 kB 5.2 MB/s eta 0:00:01\r\u001b[K     |███████████████████████████▌    | 307 kB 5.2 MB/s eta 0:00:01\r\u001b[K     |████████████████████████████▍   | 317 kB 5.2 MB/s eta 0:00:01\r\u001b[K     |█████████████████████████████▎  | 327 kB 5.2 MB/s eta 0:00:01\r\u001b[K     |██████████████████████████████▎ | 337 kB 5.2 MB/s eta 0:00:01\r\u001b[K     |███████████████████████████████▏| 348 kB 5.2 MB/s eta 0:00:01\r\u001b[K     |████████████████████████████████| 357 kB 5.2 MB/s \n",
            "\u001b[?25hRequirement already satisfied: torch>=1.9 in /usr/local/lib/python3.7/dist-packages (from botorch) (1.10.0+cu111)\n",
            "Collecting multipledispatch\n",
            "  Downloading multipledispatch-0.6.0-py3-none-any.whl (11 kB)\n",
            "Requirement already satisfied: scipy in /usr/local/lib/python3.7/dist-packages (from botorch) (1.4.1)\n",
            "Collecting gpytorch>=1.6\n",
            "  Downloading gpytorch-1.6.0.tar.gz (310 kB)\n",
            "\u001b[K     |████████████████████████████████| 310 kB 58.8 MB/s \n",
            "\u001b[?25hCollecting pyro-ppl==1.8.0\n",
            "  Downloading pyro_ppl-1.8.0-py3-none-any.whl (713 kB)\n",
            "\u001b[K     |████████████████████████████████| 713 kB 42.0 MB/s \n",
            "\u001b[?25hRequirement already satisfied: opt-einsum>=2.3.2 in /usr/local/lib/python3.7/dist-packages (from pyro-ppl==1.8.0->botorch) (3.3.0)\n",
            "Requirement already satisfied: numpy>=1.7 in /usr/local/lib/python3.7/dist-packages (from pyro-ppl==1.8.0->botorch) (1.21.5)\n",
            "Requirement already satisfied: tqdm>=4.36 in /usr/local/lib/python3.7/dist-packages (from pyro-ppl==1.8.0->botorch) (4.63.0)\n",
            "Collecting pyro-api>=0.1.1\n",
            "  Downloading pyro_api-0.1.2-py3-none-any.whl (11 kB)\n",
            "Requirement already satisfied: typing-extensions in /usr/local/lib/python3.7/dist-packages (from torch>=1.9->botorch) (3.10.0.2)\n",
            "Requirement already satisfied: six in /usr/local/lib/python3.7/dist-packages (from multipledispatch->botorch) (1.15.0)\n",
            "Building wheels for collected packages: gpytorch\n",
            "  Building wheel for gpytorch (setup.py) ... \u001b[?25l\u001b[?25hdone\n",
            "  Created wheel for gpytorch: filename=gpytorch-1.6.0-py2.py3-none-any.whl size=509889 sha256=0b13f503d1043ea3f8ca18dfdd51f3b258be6c7baf303d3e7b026f9858785492\n",
            "  Stored in directory: /root/.cache/pip/wheels/66/b5/89/34c06ad393a6feb72b4cdde46d0f1c667f3e2632960f9df109\n",
            "Successfully built gpytorch\n",
            "Installing collected packages: pyro-api, pyro-ppl, multipledispatch, gpytorch, botorch\n",
            "Successfully installed botorch-0.6.3.1 gpytorch-1.6.0 multipledispatch-0.6.0 pyro-api-0.1.2 pyro-ppl-1.8.0\n"
          ]
        }
      ]
    },
    {
      "cell_type": "code",
      "execution_count": 37,
      "metadata": {
        "colab": {
          "base_uri": "https://localhost:8080/"
        },
        "id": "RZ9sVRK4HR82",
        "outputId": "8885df8a-e11f-4ae0-9593-29207456557b"
      },
      "outputs": [
        {
          "output_type": "stream",
          "name": "stdout",
          "text": [
            "tensor([[0.0050, 0.5000],\n",
            "        [0.0050, 0.5000],\n",
            "        [0.0050, 0.5000],\n",
            "        [0.0050, 0.5000],\n",
            "        [0.0050, 1.0000],\n",
            "        [0.0050, 1.0000],\n",
            "        [0.0050, 1.0000],\n",
            "        [0.0050, 1.0000],\n",
            "        [0.0050, 2.0000],\n",
            "        [0.0050, 2.0000],\n",
            "        [0.0050, 2.0000],\n",
            "        [0.0050, 2.0000],\n",
            "        [0.0406, 0.5000],\n",
            "        [0.0406, 0.5000],\n",
            "        [0.0406, 0.5000],\n",
            "        [0.0406, 0.5000],\n",
            "        [0.0406, 1.0000],\n",
            "        [0.0406, 1.0000],\n",
            "        [0.0406, 1.0000],\n",
            "        [0.0406, 1.0000],\n",
            "        [0.0406, 2.0000],\n",
            "        [0.0406, 2.0000],\n",
            "        [0.0406, 2.0000],\n",
            "        [0.0406, 2.0000]])\n",
            "tensor([[0.0450],\n",
            "        [0.0390],\n",
            "        [0.0470],\n",
            "        [0.0430],\n",
            "        [0.0500],\n",
            "        [0.0510],\n",
            "        [0.0490],\n",
            "        [0.0500],\n",
            "        [0.0550],\n",
            "        [0.0530],\n",
            "        [0.0420],\n",
            "        [0.0500],\n",
            "        [0.0420],\n",
            "        [0.0490],\n",
            "        [0.0430],\n",
            "        [0.0440],\n",
            "        [0.0480],\n",
            "        [0.0480],\n",
            "        [0.0640],\n",
            "        [0.0530],\n",
            "        [0.0560],\n",
            "        [0.0570],\n",
            "        [0.0620],\n",
            "        [0.0580]])\n"
          ]
        },
        {
          "output_type": "execute_result",
          "data": {
            "text/plain": [
              "ExactMarginalLogLikelihood(\n",
              "  (likelihood): GaussianLikelihood(\n",
              "    (noise_covar): HomoskedasticNoise(\n",
              "      (noise_prior): GammaPrior()\n",
              "      (raw_noise_constraint): GreaterThan(1.000E-04)\n",
              "    )\n",
              "  )\n",
              "  (model): SingleTaskGP(\n",
              "    (likelihood): GaussianLikelihood(\n",
              "      (noise_covar): HomoskedasticNoise(\n",
              "        (noise_prior): GammaPrior()\n",
              "        (raw_noise_constraint): GreaterThan(1.000E-04)\n",
              "      )\n",
              "    )\n",
              "    (mean_module): ConstantMean()\n",
              "    (covar_module): ScaleKernel(\n",
              "      (base_kernel): MaternKernel(\n",
              "        (lengthscale_prior): GammaPrior()\n",
              "        (raw_lengthscale_constraint): Positive()\n",
              "        (distance_module): Distance()\n",
              "      )\n",
              "      (outputscale_prior): GammaPrior()\n",
              "      (raw_outputscale_constraint): Positive()\n",
              "    )\n",
              "  )\n",
              ")"
            ]
          },
          "metadata": {},
          "execution_count": 37
        }
      ],
      "source": [
        "import torch\n",
        "from botorch.models import SingleTaskGP\n",
        "from botorch.fit import fit_gpytorch_model\n",
        "from botorch.utils import standardize\n",
        "from gpytorch.mlls import ExactMarginalLogLikelihood\n",
        "\n",
        "import pandas as pd\n",
        "\n",
        "train_data = pd.read_excel('data_sample.xlsx')\n",
        "#print(train_data)\n",
        "train_X = train_data.iloc[:,[0,1]].values\n",
        "#print(train_X)\n",
        "train_X = torch.tensor(train_X, dtype=torch.float32)\n",
        "print(train_X)\n",
        "\n",
        "train_Y = train_data.iloc[:,[2]].values\n",
        "#print(train_Y)\n",
        "train_Y = torch.tensor(train_Y, dtype=torch.float32)\n",
        "print(train_Y)\n",
        "\n",
        "gp = SingleTaskGP(train_X, train_Y)\n",
        "mll = ExactMarginalLogLikelihood(gp.likelihood, gp)\n",
        "fit_gpytorch_model(mll)"
      ]
    },
    {
      "cell_type": "code",
      "source": [
        "from botorch.acquisition import UpperConfidenceBound\n",
        "\n",
        "UCB = UpperConfidenceBound(gp, beta=0.1)"
      ],
      "metadata": {
        "id": "RTFZM_i0bfyR"
      },
      "execution_count": 35,
      "outputs": []
    },
    {
      "cell_type": "code",
      "source": [
        "from botorch.optim import optimize_acqf\n",
        "\n",
        "#bounds = torch.stack([torch.zeros(2), torch.ones(2)])\n",
        "bounds = torch.tensor([[0.005, 0.5],[0.0406, 2]])\n",
        "#print(bounds)\n",
        "candidate, acq_value = optimize_acqf(\n",
        "    UCB, bounds=bounds, q=1, num_restarts=5, raw_samples=20,\n",
        ")\n",
        "candidate"
      ],
      "metadata": {
        "colab": {
          "base_uri": "https://localhost:8080/"
        },
        "id": "joxtJm35bmY4",
        "outputId": "7a1dc306-60b8-48d9-9e36-9993c1851cd1"
      },
      "execution_count": 40,
      "outputs": [
        {
          "output_type": "execute_result",
          "data": {
            "text/plain": [
              "tensor([[0.0406, 1.5050]])"
            ]
          },
          "metadata": {},
          "execution_count": 40
        }
      ]
    }
  ]
}