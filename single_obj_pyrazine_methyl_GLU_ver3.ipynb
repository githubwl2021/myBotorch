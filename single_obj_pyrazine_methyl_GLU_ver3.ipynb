{
  "nbformat": 4,
  "nbformat_minor": 0,
  "metadata": {
    "colab": {
      "name": "Untitled2.ipynb",
      "provenance": [],
      "authorship_tag": "ABX9TyOWOMIIVr3VPO35M0HpyBiF"
    },
    "kernelspec": {
      "name": "python3",
      "display_name": "Python 3"
    },
    "language_info": {
      "name": "python"
    }
  },
  "cells": [
    {
      "cell_type": "code",
      "execution_count": null,
      "metadata": {
        "id": "xbqNO3cp0qdM"
      },
      "outputs": [],
      "source": [
        "pip install botorch"
      ]
    },
    {
      "cell_type": "code",
      "source": [
        "import torch\n",
        "from botorch.models import SingleTaskGP\n",
        "from botorch.fit import fit_gpytorch_model\n",
        "from botorch.utils import standardize\n",
        "from gpytorch.mlls import ExactMarginalLogLikelihood\n",
        "\n",
        "import pandas as pd\n",
        "\n",
        "train_data = pd.read_excel('data_sample.xlsx')\n",
        "#print(train_data)\n",
        "train_X = train_data.iloc[:,[0,1]].values\n",
        "#print(train_X)\n",
        "train_X = torch.tensor(train_X, dtype=torch.float32)\n",
        "#print(train_X)\n",
        "\n",
        "train_Y = train_data.iloc[:,[2]].values\n",
        "#print(train_Y)\n",
        "train_Y = torch.tensor(train_Y, dtype=torch.float32)\n",
        "#print(train_Y)\n",
        "\n",
        "gp = SingleTaskGP(train_X, train_Y)\n",
        "mll = ExactMarginalLogLikelihood(gp.likelihood, gp)\n",
        "fit_gpytorch_model(mll)\n",
        "\n",
        "from botorch.acquisition import UpperConfidenceBound\n",
        "from botorch.acquisition import qExpectedImprovement\n",
        "\n",
        "UCB = UpperConfidenceBound(gp, beta=0.1)\n",
        "qEI = qExpectedImprovement(gp, best_f=0.2)\n",
        "\n",
        "from botorch.optim import optimize_acqf\n",
        "\n",
        "#bounds = torch.stack([torch.zeros(2), torch.ones(2)])\n",
        "#bounds = torch.tensor([[0.005, 0.5],[0.0406, 2]])\n",
        "#bounds = torch.tensor([[0.005, 0.1],[0.0406, 3]])\n",
        "\n",
        "bounds = torch.tensor([[0.001, 0.1],[0.05, 3]])\n",
        "#print(bounds)\n",
        "candidate, acq_value = optimize_acqf(qEI, bounds=bounds, q=7, num_restarts=5, raw_samples=20)\n",
        "print(candidate)\n",
        "print(acq_value)"
      ],
      "metadata": {
        "colab": {
          "base_uri": "https://localhost:8080/"
        },
        "id": "GTqwkupQ08E0",
        "outputId": "a954964b-c727-4311-a1cc-66a57b382e54"
      },
      "execution_count": 59,
      "outputs": [
        {
          "output_type": "stream",
          "name": "stdout",
          "text": [
            "tensor([[5.0000e-02, 1.3926e+00],\n",
            "        [5.0000e-02, 7.5281e-01],\n",
            "        [1.0000e-03, 2.0647e-01],\n",
            "        [5.0000e-02, 3.0000e+00],\n",
            "        [5.0000e-02, 1.6209e+00],\n",
            "        [5.0000e-02, 2.5215e+00],\n",
            "        [5.0000e-02, 1.0000e-01]])\n",
            "tensor(0.3526)\n"
          ]
        },
        {
          "output_type": "stream",
          "name": "stderr",
          "text": [
            "/usr/local/lib/python3.7/dist-packages/gpytorch/utils/cholesky.py:40: NumericalWarning: A not p.d., added jitter of 1.0e-06 to the diagonal\n",
            "  NumericalWarning,\n"
          ]
        }
      ]
    }
  ]
}